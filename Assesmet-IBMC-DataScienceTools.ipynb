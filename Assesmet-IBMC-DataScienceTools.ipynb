{
 "cells": [
  {
   "cell_type": "markdown",
   "id": "2e7e54e7",
   "metadata": {},
   "source": [
    "<center>\n",
    "    <img src=\"https://cf-courses-data.s3.us.cloud-object-storage.appdomain.cloud/IBMDeveloperSkillsNetwork-DS0105EN-SkillsNetwork/labs/Module2/images/SN_web_lightmode.png\" width=\"300\" alt=\"cognitiveclass.ai logo\">\n",
    "</center>"
   ]
  },
  {
   "cell_type": "markdown",
   "id": "e2fb90dc",
   "metadata": {},
   "source": [
    "# Assessment Data Science\n",
    "## Data Science Tools Coursera IBM"
   ]
  },
  {
   "cell_type": "markdown",
   "id": "79c199c0",
   "metadata": {},
   "source": [
    "**Andrés Felipe Flórez Caro**\n",
    "\n",
    "This is the asssesment for the course ***Tools for data science*** "
   ]
  },
  {
   "cell_type": "markdown",
   "id": "1526c10a",
   "metadata": {},
   "source": [
    "### Languages for Data Science\n",
    "\n",
    "Soma languages for data science:\n",
    "- Python\n",
    "- R\n",
    "- SQL\n",
    "- Scala\n",
    "- Java\n",
    "\n",
    "Among others.."
   ]
  },
  {
   "cell_type": "markdown",
   "id": "f19ef550",
   "metadata": {},
   "source": [
    "### Libraries for Data Science\n",
    "\n",
    "Soma libraries for data science:\n",
    "\n",
    "For Python\n",
    "\n",
    "- PANDAS → Data structures and tools\n",
    "- NumPY → Arrays and matrices\n",
    "- Matplotlib → plots and graphs\n",
    "- Seaborn\n",
    "- Scikit learn\n",
    "- Keras → Deep Learning Neura Networks\n",
    "- TensorFlow\n",
    "- Pytorch\n",
    "\n",
    "\n",
    "For R\n",
    "\n",
    "- dplyr → Data manipulation\n",
    "- stringr → String manipulation\n",
    "- ggplot → Data visualization\n",
    "- caret → Machine Learning\n",
    "Among others.."
   ]
  },
  {
   "cell_type": "markdown",
   "id": "baf28ce3",
   "metadata": {},
   "source": [
    "### Data Science Tools\n",
    "\n",
    "Some tools for data science\n",
    "\n",
    "| stage | tool |\n",
    "|-----|------|\n",
    "| Data management | Relational Databases(oracle, sqlserver, ...) | \n",
    "| Data management | NoSQL Databases (mongo, dynamo, ...) | \n",
    "| Data integration and transformation | Apache airflow | \n",
    "| Data integration and transformation | Spark SQL | \n",
    "| Data visualization | Kibana | \n",
    "| Data visualization | PowerBI| \n",
    "| Model deployment | Tensorflow | \n",
    "| Model deployment | SPSS | \n",
    "| Model monitoring and assesment | ModelDB | \n",
    "| Model monitoring and assesment | Prometheus | \n",
    "| Code Asset Management | Git - GitHub - GitLab |\n",
    "| Development environments | Jupyter Notebooks |\n",
    "| Development environments | RStudio |\n",
    "| Execution environments | Apache Spark |\n",
    "| Fully Integrated Visual Tools | Knime |\n",
    "| Fully Integrated Visual Tools | Watson Studio |"
   ]
  },
  {
   "cell_type": "code",
   "execution_count": 8,
   "id": "9093b700",
   "metadata": {},
   "outputs": [
    {
     "name": "stdout",
     "output_type": "stream",
     "text": [
      "0\n",
      "1\n",
      "1\n",
      "2\n",
      "3\n",
      "5\n",
      "8\n",
      "13\n",
      "21\n",
      "34\n"
     ]
    }
   ],
   "source": [
    "# arithmetic expression examples\n",
    "# fibonacci sequence for 10 iterations\n",
    "a, b = 0, 1\n",
    "for i in range(10):\n",
    "    print(a)\n",
    "    a, b = b, a+b "
   ]
  },
  {
   "cell_type": "code",
   "execution_count": 10,
   "id": "72706393",
   "metadata": {},
   "outputs": [
    {
     "name": "stdout",
     "output_type": "stream",
     "text": [
      "15\n"
     ]
    }
   ],
   "source": [
    "# code cell to multiply and add numbers\n",
    "a = 1\n",
    "b = 2\n",
    "c = 5\n",
    "\n",
    "d = 1 + 2\n",
    "d *= c\n",
    "print(d)"
   ]
  },
  {
   "cell_type": "code",
   "execution_count": 21,
   "id": "aa515bf3",
   "metadata": {},
   "outputs": [
    {
     "data": {
      "text/plain": [
       "4.0"
      ]
     },
     "execution_count": 21,
     "metadata": {},
     "output_type": "execute_result"
    }
   ],
   "source": [
    "# code cell to convert minutes to hours. \n",
    "def minutes_to_hours(minutes):\n",
    "    return minutes/60\n",
    "\n",
    "minutes_to_hours(240)"
   ]
  },
  {
   "cell_type": "markdown",
   "id": "13f89cab",
   "metadata": {},
   "source": [
    "### Objectives\n",
    "\n",
    "* Learn about multiple data science tools, both open source and commercial\n",
    "* Continue with IBM data science route"
   ]
  },
  {
   "cell_type": "markdown",
   "id": "fd0317f8",
   "metadata": {},
   "source": [
    "Author: ***Andrés Felipe Flórez Caro***\n",
    "\n",
    "Paipa - Boyacá - Colombia"
   ]
  }
 ],
 "metadata": {
  "kernelspec": {
   "display_name": "Python 3 (ipykernel)",
   "language": "python",
   "name": "python3"
  },
  "language_info": {
   "codemirror_mode": {
    "name": "ipython",
    "version": 3
   },
   "file_extension": ".py",
   "mimetype": "text/x-python",
   "name": "python",
   "nbconvert_exporter": "python",
   "pygments_lexer": "ipython3",
   "version": "3.11.1"
  }
 },
 "nbformat": 4,
 "nbformat_minor": 5
}
